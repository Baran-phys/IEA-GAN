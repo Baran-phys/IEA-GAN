{
 "cells": [
  {
   "cell_type": "code",
   "execution_count": null,
   "metadata": {},
   "outputs": [],
   "source": [
    "import matplotlib.pyplot as plt\n",
    "import os\n",
    "import numpy as np\n",
    "import pandas as pd\n",
    "import seaborn as sns\n",
    "import plotly.express as px\n",
    "from scipy.stats import entropy\n",
    "\n",
    "sns.set_style()\n",
    "%matplotlib inline"
   ]
  },
  {
   "cell_type": "code",
   "execution_count": null,
   "metadata": {},
   "outputs": [],
   "source": [
    "fid_path = '/path/to/FID/'\n",
    "path = '/path/to/logs/'"
   ]
  },
  {
   "cell_type": "markdown",
   "metadata": {},
   "source": [
    "## FID loggigs"
   ]
  },
  {
   "cell_type": "code",
   "execution_count": null,
   "metadata": {
    "scrolled": true
   },
   "outputs": [],
   "source": [
    "fid = []\n",
    "itrs_fid = []\n",
    "\n",
    "with open(fid_path + 'BGd_163_log.jsonl') as f:\n",
    "    for line in f.readlines():\n",
    "        print(line)"
   ]
  },
  {
   "cell_type": "markdown",
   "metadata": {},
   "source": [
    "## Loss for G & D"
   ]
  },
  {
   "cell_type": "code",
   "execution_count": null,
   "metadata": {},
   "outputs": [],
   "source": [
    "G_loss = []\n",
    "D_loss_real = []\n",
    "D_loss_fake = []\n",
    "steps = []\n",
    "\n",
    "with open(path + 'G_loss.log') as f:\n",
    "    for line in f.readlines():\n",
    "        G_loss.append(float(line.split(':')[1]))\n",
    "        steps.append(int(line.split(':')[0]))\n",
    "\n",
    "with open(path + 'D_loss_real.log') as f:\n",
    "    for line in f.readlines():\n",
    "        D_loss_real.append(float(line.split(':')[1]))\n",
    "\n",
    "\n",
    "with open(path + 'D_loss_fake.log') as f:\n",
    "    for line in f.readlines():\n",
    "        D_loss_fake.append(float(line.split(':')[1]))\n",
    "\n",
    "avg = np.convolve(G_loss, np.ones(16)/16, mode='valid')\n",
    "avdf = np.convolve(D_loss_fake, np.ones(16)/16, mode='valid')\n",
    "avdr = np.convolve(D_loss_real, np.ones(16)/16, mode='valid')\n",
    "avs = np.convolve(steps, np.ones(16)/16, mode='valid')\n",
    "# Keep one every 8 elements (TPU cores)\n",
    "G_loss = G_loss[::8]\n",
    "D_loss_real = D_loss_real[::8]\n",
    "D_loss_fake = D_loss_fake[::8]\n",
    "steps = steps[::8]\n",
    "\n",
    "plt.figure(figsize=(15, 8))\n",
    "sns.set_style(\"darkgrid\")\n",
    "plt.plot(steps, G_loss)\n",
    "plt.plot(steps, D_loss_real)\n",
    "plt.plot(steps, D_loss_fake)\n",
    "plt.plot(avs, avg)\n",
    "plt.plot(avs, avdf)\n",
    "# plt.plot(avs,avdr)\n",
    "plt.legend(['G_loss', 'D_loss_real', 'D_loss_fake',\n",
    "           'mvg_G', 'mvg_D_fake'], loc='upper right')\n",
    "plt.ylim((0, 8))\n",
    "plt.show()"
   ]
  },
  {
   "cell_type": "code",
   "execution_count": null,
   "metadata": {},
   "outputs": [],
   "source": [
    "en_40k= entropy(avg[:40000],avdf[:40000])\n",
    "en_curr = entropy(avg,avdf)\n",
    "print(f'The current entropy is:{en_curr}, while the entropy at 40k is:{en_40k}')"
   ]
  },
  {
   "cell_type": "markdown",
   "metadata": {},
   "source": [
    "## Spectral Analysis for D"
   ]
  },
  {
   "cell_type": "code",
   "execution_count": null,
   "metadata": {
    "scrolled": true
   },
   "outputs": [],
   "source": [
    "# Singular Value Analysis for D\n",
    "files = {}\n",
    "i = 0\n",
    "for file in os.listdir(path):\n",
    "    if file.startswith('D'):\n",
    "        lines = []\n",
    "        itrs = []\n",
    "        with open(file) as f:\n",
    "            for line in f:\n",
    "                fields = line.replace(\":\", \"\").split()\n",
    "                lines.append(float(fields[1]))\n",
    "                itrs.append(int(fields[0]))\n",
    "            files[file] = lines"
   ]
  },
  {
   "cell_type": "code",
   "execution_count": null,
   "metadata": {},
   "outputs": [],
   "source": [
    "l_f = files.pop('D_loss_fake.log')\n",
    "l_r = files.pop('D_loss_real.log')\n",
    "lists = sorted(files.items())\n",
    "x, y = zip(*lists)\n",
    "df= pd.DataFrame.from_dict(files)\n",
    "df['itr']=np.arange(10,(len(lines)*10)+1,10)\n",
    "df_melted = df.melt(\"itr\", var_name=\"SVs\", value_name=\"value\")"
   ]
  },
  {
   "cell_type": "code",
   "execution_count": null,
   "metadata": {},
   "outputs": [],
   "source": [
    "sns.set_style(\"darkgrid\")\n",
    "fig = px.line(df_melted, x=\"itr\", y=\"value\", color='SVs')\n",
    "fig.show()"
   ]
  },
  {
   "cell_type": "markdown",
   "metadata": {},
   "source": [
    "## Spectral Analysis for G"
   ]
  },
  {
   "cell_type": "code",
   "execution_count": null,
   "metadata": {},
   "outputs": [],
   "source": [
    "# Spectral Analysis for G\n",
    "files_G = {}\n",
    "i = 0\n",
    "for file in os.listdir(path):\n",
    "    if file.startswith('G'):\n",
    "        lines_G = []\n",
    "        itrs_G = []\n",
    "        with open(file) as f:\n",
    "            for line in f:\n",
    "                fields_G = line.replace(\":\", \"\").split()\n",
    "                lines_G.append(float(fields_G[1]))\n",
    "                itrs_G.append(int(fields_G[0]))\n",
    "            files_G[file] = lines_G"
   ]
  },
  {
   "cell_type": "code",
   "execution_count": null,
   "metadata": {},
   "outputs": [],
   "source": [
    "l_g = files_G.pop('G_loss.log')\n",
    "dg = pd.DataFrame.from_dict(files_G)\n",
    "dg['itr'] = np.arange(10,(dg.shape[0]*10)+1,10)\n",
    "dg_melted = dg.melt(\"itr\", var_name=\"SVs\", value_name=\"value\")"
   ]
  },
  {
   "cell_type": "code",
   "execution_count": null,
   "metadata": {
    "scrolled": false
   },
   "outputs": [],
   "source": [
    "fig = px.line(dg_melted, x=\"itr\", y=\"value\", color='SVs', log_x=False, log_y=False)\n",
    "fig.show()"
   ]
  },
  {
   "cell_type": "markdown",
   "metadata": {},
   "source": [
    "## Loss for D and G individually"
   ]
  },
  {
   "cell_type": "code",
   "execution_count": null,
   "metadata": {},
   "outputs": [],
   "source": [
    "G_loss = []\n",
    "D_loss_real = []\n",
    "D_loss_fake = []\n",
    "steps = []\n",
    "\n",
    "with open(path + 'G_loss.log') as f:\n",
    "    for line in f.readlines():\n",
    "        G_loss.append(float(line.split(':')[1]))\n",
    "        steps.append(int(line.split(':')[0]))\n",
    "\n",
    "with open(path + 'D_loss_real.log') as f:\n",
    "    for line in f.readlines():\n",
    "        D_loss_real.append(float(line.split(':')[1]))\n",
    "\n",
    "\n",
    "with open(path + 'D_loss_fake.log') as f:\n",
    "    for line in f.readlines():\n",
    "        D_loss_fake.append(float(line.split(':')[1]))\n",
    "        \n",
    "        \n",
    "G_loss = G_loss[::8]\n",
    "D_loss_real = D_loss_real[::8]\n",
    "D_loss_fake = D_loss_fake[::8]\n",
    "steps = steps[::8]"
   ]
  },
  {
   "cell_type": "code",
   "execution_count": null,
   "metadata": {},
   "outputs": [],
   "source": [
    "fig = px.line(x=steps, y=G_loss, log_x=False, log_y=False)\n",
    "fig['data'][0]['line']['color']=\"#cc0000\"\n",
    "fig.show()"
   ]
  },
  {
   "cell_type": "code",
   "execution_count": null,
   "metadata": {},
   "outputs": [],
   "source": [
    "fig = px.line(x=steps, y=D_loss_real, log_x=False, log_y=False)\n",
    "fig.show()"
   ]
  },
  {
   "cell_type": "code",
   "execution_count": null,
   "metadata": {},
   "outputs": [],
   "source": [
    "fig = px.line(x=steps, y=D_loss_fake, log_x=False, log_y=False)\n",
    "fig.show()"
   ]
  },
  {
   "cell_type": "markdown",
   "metadata": {},
   "source": [
    "# Uniform & IEA Loss Analysis"
   ]
  },
  {
   "cell_type": "code",
   "execution_count": null,
   "metadata": {},
   "outputs": [],
   "source": [
    "unif_loss = []\n",
    "iea_loss = []\n",
    "steps = []\n",
    "\n",
    "with open(path + 'unif_loss_d.log') as f:\n",
    "    for line in f.readlines():\n",
    "        unif_loss.append(float(line.split(':')[1]))\n",
    "        steps.append(int(line.split(':')[0]))\n",
    "\n",
    "with open(path + 'iep_loss.log') as f:\n",
    "    for line in f.readlines():\n",
    "        iep_loss.append(float(line.split(':')[1]))\n",
    "\n",
    "        \n",
    "\n",
    "unif_loss = unif_loss[::8]\n",
    "icp_loss = iep_loss[::8]\n",
    "steps = steps[::8]"
   ]
  },
  {
   "cell_type": "code",
   "execution_count": null,
   "metadata": {},
   "outputs": [],
   "source": [
    "fig = px.line(x=steps, y=unif_loss, log_x=False, log_y=False)\n",
    "fig['data'][0]['line']['color']=\"#cc0000\"\n",
    "fig.show()"
   ]
  },
  {
   "cell_type": "code",
   "execution_count": null,
   "metadata": {},
   "outputs": [],
   "source": [
    "fig = px.line(x=steps, y=iea_loss, log_x=False, log_y=False)\n",
    "fig.show()"
   ]
  }
 ],
 "metadata": {
  "kernelspec": {
   "display_name": "Python 3 (ipykernel)",
   "language": "python",
   "name": "python3"
  },
  "language_info": {
   "codemirror_mode": {
    "name": "ipython",
    "version": 3
   },
   "file_extension": ".py",
   "mimetype": "text/x-python",
   "name": "python",
   "nbconvert_exporter": "python",
   "pygments_lexer": "ipython3",
   "version": "3.8.10"
  }
 },
 "nbformat": 4,
 "nbformat_minor": 2
}
