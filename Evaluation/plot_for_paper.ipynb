{
 "cells": [
  {
   "cell_type": "code",
   "execution_count": null,
   "id": "8650f99f-3d1f-4129-b08a-1cd2d9e967cd",
   "metadata": {},
   "outputs": [],
   "source": [
    "#!pip install 'matplotlib>=3.4' hist"
   ]
  },
  {
   "cell_type": "code",
   "execution_count": null,
   "id": "1548d35d-14ec-438a-ba27-bfdee00bcaa0",
   "metadata": {},
   "outputs": [],
   "source": [
    "from collections import defaultdict\n",
    "import pickle\n",
    "import matplotlib.pyplot as plt\n",
    "import hist\n",
    "import numpy as np"
   ]
  },
  {
   "cell_type": "code",
   "execution_count": null,
   "id": "4f720d74-9fdc-4950-bc71-9b11d54908bf",
   "metadata": {},
   "outputs": [],
   "source": [
    "with open(\"eval_results_10k.pickle\", \"rb\") as f:\n",
    "    stats = pickle.load(f)"
   ]
  },
  {
   "cell_type": "code",
   "execution_count": null,
   "id": "3a06b136-c143-461d-82fa-ecdb03803eba",
   "metadata": {},
   "outputs": [],
   "source": [
    "HIST, OCCH, MEANS, OCCS = (0, 1, 2, 3)"
   ]
  },
  {
   "cell_type": "code",
   "execution_count": null,
   "id": "c4ca14a0-7627-4fcf-8fb8-5cf7a3e6af06",
   "metadata": {},
   "outputs": [],
   "source": [
    "default_opts = dict(linestyle=\"--\", linewidth=1)\n",
    "plot_opts = defaultdict(lambda: default_opts)\n",
    "plot_opts[\"real\"] = dict(linewidth=1.5)\n",
    "plot_opts[\"IEAGAN\"] = dict(linewidth=1.5)"
   ]
  },
  {
   "cell_type": "code",
   "execution_count": null,
   "id": "7e8e0d49-55f3-4659-9c67-ad361aafd934",
   "metadata": {},
   "outputs": [],
   "source": [
    "legend_names = {\n",
    "    \"real\": \"GEANT4 (reference)\",\n",
    "    \"IEAGAN\": \"IEA-GAN\",\n",
    "    \"BigGAN_deep\": \"BigGAN-deep\",\n",
    "    \"ContraGAN\": \"ContraGAN\",\n",
    "    \"PEGAN\": \"PE-GAN\"\n",
    "}"
   ]
  },
  {
   "cell_type": "code",
   "execution_count": null,
   "id": "efcc00b0-244b-435c-a378-ac9f9c3f522d",
   "metadata": {},
   "outputs": [],
   "source": [
    "def plot_occh(ax):\n",
    "    for key in stats:\n",
    "        h = hist.Hist(stats[key][OCCH])\n",
    "        ax.stairs(h.density(), h.axes.edges[0], label=legend_names[key], **plot_opts[key])\n",
    "        if key == \"real\":\n",
    "            ax.stairs(h.density(), h.axes.edges[0], fill=True, color=\"Gray\", alpha=0.2)\n",
    "    ax.set_ylabel(\"Density\")\n",
    "    ax.set_xlabel(\"Occupancy\")"
   ]
  },
  {
   "cell_type": "code",
   "execution_count": null,
   "id": "1319b94d-a96e-451b-b75c-f5814cc246fa",
   "metadata": {},
   "outputs": [],
   "source": [
    "fig, ax = plt.subplots()\n",
    "plot_occh(ax)\n",
    "ax.legend()\n",
    "plt.gcf().set_size_inches(6,4.32)\n",
    "fig.tight_layout()\n",
    "fig.savefig(\"occupancy_distribution.pdf\")"
   ]
  },
  {
   "cell_type": "code",
   "execution_count": null,
   "id": "1f30cd97-c38d-4780-8741-3c5d5e02d54e",
   "metadata": {},
   "outputs": [],
   "source": [
    "def density(h):\n",
    "    \"density that includes flow bins (h.density() does not include it)\"\n",
    "    fraction = h.values() / h.sum(flow=True)\n",
    "    return fraction / h.axes[0].widths"
   ]
  },
  {
   "cell_type": "code",
   "execution_count": null,
   "id": "ce48fe40-d6f3-447a-b2c9-618e8977f285",
   "metadata": {},
   "outputs": [],
   "source": [
    "def plot_hist(ax, bin_selection=lambda h: h[1:100]):\n",
    "    for key in stats:\n",
    "        h = hist.Hist(stats[key][HIST])\n",
    "        h = bin_selection(h)\n",
    "        ax.stairs(density(h), h.axes.edges[0], label=legend_names[key], **plot_opts[key])\n",
    "        if key == \"real\":\n",
    "            ax.stairs(density(h), h.axes.edges[0], fill=True, color=\"Gray\", alpha=0.2)\n",
    "    ax.set_ylabel(\"Density\")\n",
    "    ax.set_xlabel(\"Pixel Intensity\")"
   ]
  },
  {
   "cell_type": "code",
   "execution_count": null,
   "id": "7cf24bf7-49e7-4382-a7f0-f76519ec221c",
   "metadata": {},
   "outputs": [],
   "source": [
    "fig, ax = plt.subplots()\n",
    "plot_hist(ax)\n",
    "ax.legend()\n",
    "plt.gcf().set_size_inches(6,4.32)\n",
    "fig.tight_layout()\n",
    "fig.savefig(\"pixel_intensity_lin.pdf\")"
   ]
  },
  {
   "cell_type": "code",
   "execution_count": null,
   "id": "674dc3f9-4b50-4a75-ae10-1d5ee87a1294",
   "metadata": {},
   "outputs": [],
   "source": [
    "fig, ax = plt.subplots()\n",
    "plot_hist(ax, bin_selection=lambda h: h[1:])\n",
    "ax.set_yscale(\"log\")\n",
    "ax.legend()\n",
    "ax.set_ylim(0.5e-10, 1e-3)\n",
    "plt.gcf().set_size_inches(6,4.32)\n",
    "fig.tight_layout()\n",
    "fig.savefig(\"pixel_intensity_log.pdf\")"
   ]
  },
  {
   "cell_type": "code",
   "execution_count": null,
   "id": "bc2560c2-14a1-4032-bedb-0ad7aeb0c2db",
   "metadata": {},
   "outputs": [],
   "source": [
    "def plot_occs(ax):\n",
    "    for key in stats:\n",
    "        x = np.arange(41)\n",
    "        y = stats[key][OCCS]\n",
    "        y = np.append(y, y[-1])\n",
    "        plt.step(x, y, where=\"post\", label=legend_names[key], **plot_opts[key])\n",
    "        if key == \"real\":\n",
    "            plt.fill_between(x, y, step=\"post\", color=\"Gray\", alpha=0.2)\n",
    "    ax.set_ylabel(\"Mean Occupancy\")\n",
    "    ax.set_xlabel(\"Sensor ID\")\n",
    "    ax.axvline(16, color=\"black\", linestyle=\"--\")\n",
    "    ax.text(2, 0.008, \"Inner detector layer\")\n",
    "    ax.text(22, 0.008, \"Outer detector layer\")"
   ]
  },
  {
   "cell_type": "code",
   "execution_count": null,
   "id": "cd2f65f0-d3e9-473d-bcbf-f14343050dce",
   "metadata": {},
   "outputs": [],
   "source": [
    "fig, ax = plt.subplots()\n",
    "plot_occs(ax)\n",
    "ax.legend()\n",
    "plt.gcf().set_size_inches(6,4.32)\n",
    "fig.tight_layout()\n",
    "fig.savefig(\"mean_occupancy.pdf\")"
   ]
  },
  {
   "cell_type": "code",
   "execution_count": null,
   "id": "416b50fe-8c8d-45bd-af13-6a7afc088b8b",
   "metadata": {},
   "outputs": [],
   "source": [
    "fig, [[ax1, ax2], [ax3, ax4]] = plt.subplots(nrows=2, ncols=2)\n",
    "plot_hist(ax1)\n",
    "plot_hist(ax2, bin_selection=lambda h: h[1:])\n",
    "ax2.set_yscale(\"log\")\n",
    "plot_occh(ax3)\n",
    "plot_occs(ax4)\n",
    "ax4.set_ylim(0, 0.02)\n",
    "fig.legend(*ax1.get_legend_handles_labels(),  loc='upper center', borderaxespad=0., ncol=5, bbox_to_anchor=(0., 0.83, 1., .102))\n",
    "plt.gcf().set_size_inches(6,4.32)\n",
    "fig.tight_layout()\n",
    "fig.savefig(\"pixel_level_metrics.pdf\")\n",
    "plt.subplots_adjust(\n",
    "    #left=0.1,\n",
    "    #bottom=0.1, \n",
    "    #right=0.9, \n",
    "    #top=0.9, \n",
    "    #wspace=0.4, \n",
    "    hspace=0.4\n",
    ")"
   ]
  },
  {
   "cell_type": "code",
   "execution_count": null,
   "id": "f1191c3d-1c0a-4ce6-a168-3265243219a8",
   "metadata": {},
   "outputs": [],
   "source": []
  },
  {
   "cell_type": "code",
   "execution_count": null,
   "id": "c5025ead-c4ff-4858-920e-daffc46f0638",
   "metadata": {},
   "outputs": [],
   "source": []
  }
 ],
 "metadata": {
  "kernelspec": {
   "display_name": "Python 3 (ipykernel)",
   "language": "python",
   "name": "python3"
  },
  "language_info": {
   "codemirror_mode": {
    "name": "ipython",
    "version": 3
   },
   "file_extension": ".py",
   "mimetype": "text/x-python",
   "name": "python",
   "nbconvert_exporter": "python",
   "pygments_lexer": "ipython3",
   "version": "3.9.7"
  }
 },
 "nbformat": 4,
 "nbformat_minor": 5
}
